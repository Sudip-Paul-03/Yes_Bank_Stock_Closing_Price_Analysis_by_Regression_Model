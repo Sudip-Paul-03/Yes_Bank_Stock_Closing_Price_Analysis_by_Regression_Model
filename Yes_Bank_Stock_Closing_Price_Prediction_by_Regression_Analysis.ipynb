{
  "nbformat": 4,
  "nbformat_minor": 0,
  "metadata": {
    "colab": {
      "private_outputs": true,
      "provenance": [],
      "collapsed_sections": [
        "w6K7xa23Elo4",
        "mDgbUHAGgjLW",
        "O_i_v8NEhb9l",
        "HhfV-JJviCcP",
        "Y3lxredqlCYt",
        "3RnN4peoiCZX",
        "x71ZqKXriCWQ",
        "7hBIi_osiCS2",
        "JlHwYmJAmNHm",
        "35m5QtbWiB9F",
        "PoPl-ycgm1ru",
        "H0kj-8xxnORC",
        "nA9Y7ga8ng1Z",
        "PBTbrJXOngz2",
        "u3PMJOP6ngxN",
        "dauF4eBmngu3",
        "bKJF3rekwFvQ",
        "MSa1f5Uengrz",
        "GF8Ens_Soomf",
        "0wOQAZs5pc--",
        "K5QZ13OEpz2H",
        "lQ7QKXXCp7Bj",
        "448CDAPjqfQr",
        "KSlN3yHqYklG",
        "t6dVpIINYklI",
        "ijmpgYnKYklI",
        "-JiQyfWJYklI",
        "EM7whBJCYoAo",
        "fge-S5ZAYoAp",
        "85gYPyotYoAp",
        "RoGjAbkUYoAp",
        "4Of9eVA-YrdM",
        "iky9q4vBYrdO",
        "F6T5p64dYrdO",
        "y-Ehk30pYrdP",
        "bamQiAODYuh1",
        "QHF8YVU7Yuh3",
        "GwzvFGzlYuh3",
        "qYpmQ266Yuh3",
        "OH-pJp9IphqM",
        "bbFf2-_FphqN",
        "_ouA3fa0phqN",
        "Seke61FWphqN",
        "PIIx-8_IphqN",
        "t27r6nlMphqO",
        "r2jJGEOYphqO",
        "b0JNsNcRphqO",
        "BZR9WyysphqO",
        "jj7wYXLtphqO",
        "eZrbJ2SmphqO",
        "rFu4xreNphqO",
        "YJ55k-q6phqO",
        "gCFgpxoyphqP",
        "OVtJsKN_phqQ",
        "lssrdh5qphqQ",
        "U2RJ9gkRphqQ",
        "1M8mcRywphqQ",
        "tgIPom80phqQ",
        "JMzcOPDDphqR",
        "x-EpHcCOp1ci",
        "X_VqEhTip1ck",
        "8zGJKyg5p1ck",
        "PVzmfK_Ep1ck",
        "n3dbpmDWp1ck",
        "ylSl6qgtp1ck",
        "ZWILFDl5p1ck",
        "M7G43BXep1ck",
        "Ag9LCva-p1cl",
        "E6MkPsBcp1cl",
        "2cELzS2fp1cl",
        "3MPXvC8up1cl",
        "NC_X3p0fY2L0",
        "UV0SzAkaZNRQ",
        "YPEH6qLeZNRQ",
        "q29F0dvdveiT",
        "EXh0U9oCveiU",
        "22aHeOlLveiV",
        "g-ATYxFrGrvw",
        "Yfr_Vlr8HBkt",
        "8yEUt7NnHlrM",
        "tEA2Xm5dHt1r",
        "I79__PHVH19G",
        "Ou-I18pAyIpj",
        "fF3858GYyt-u",
        "4_0_7-oCpUZd",
        "hwyV_J3ipUZe",
        "3yB-zSqbpUZe",
        "dEUvejAfpUZe",
        "Fd15vwWVpUZf",
        "bn_IUdTipZyH",
        "49K5P_iCpZyH",
        "Nff-vKELpZyI",
        "kLW572S8pZyI",
        "dWbDXHzopZyI",
        "yLjJCtPM0KBk",
        "xiyOF9F70UgQ",
        "7wuGOrhz0itI",
        "id1riN9m0vUs",
        "578E2V7j08f6",
        "89xtkJwZ18nB",
        "67NQN5KX2AMe",
        "Iwf50b-R2tYG",
        "GMQiZwjn3iu7",
        "WVIkgGqN3qsr",
        "XkPnILGE3zoT",
        "Hlsf0x5436Go",
        "mT9DMSJo4nBL",
        "c49ITxTc407N",
        "OeJFEK0N496M",
        "9ExmJH0g5HBk",
        "cJNqERVU536h",
        "k5UmGsbsOxih",
        "T0VqWOYE6DLQ",
        "qBMux9mC6MCf",
        "-oLEiFgy-5Pf",
        "C74aWNz2AliB",
        "2DejudWSA-a0",
        "pEMng2IbBLp7",
        "rAdphbQ9Bhjc",
        "TNVZ9zx19K6k",
        "nqoHp30x9hH9",
        "rMDnDkt2B6du",
        "yiiVWRdJDDil",
        "1UUpS68QDMuG",
        "kexQrXU-DjzY",
        "T5CmagL3EC8N",
        "BhH2vgX9EjGr",
        "qjKvONjwE8ra",
        "P1XJ9OREExlT",
        "VFOzZv6IFROw",
        "TIqpNgepFxVj",
        "VfCC591jGiD4",
        "OB4l2ZhMeS1U",
        "ArJBuiUVfxKd",
        "4qY1EAkEfxKe",
        "PiV4Ypx8fxKe",
        "TfvqoZmBfxKf",
        "dJ2tPlVmpsJ0",
        "JWYfwnehpsJ1",
        "-jK_YjpMpsJ2",
        "HAih1iBOpsJ2",
        "zVGeBEFhpsJ2",
        "bmKjuQ-FpsJ3",
        "Fze-IPXLpx6K",
        "7AN1z2sKpx6M",
        "9PIHJqyupx6M",
        "_-qAgymDpx6N",
        "Z-hykwinpx6N",
        "h_CCil-SKHpo",
        "cBFFvTBNJzUa",
        "HvGl1hHyA_VK",
        "EyNgTHvd2WFk",
        "KH5McJBi2d8v",
        "iW_Lq9qf2h6X",
        "-Kee-DAl2viO",
        "gCX9965dhzqZ",
        "gIfDvo9L0UH2"
      ],
      "include_colab_link": true
    },
    "kernelspec": {
      "name": "python3",
      "display_name": "Python 3"
    },
    "language_info": {
      "name": "python"
    }
  },
  "cells": [
    {
      "cell_type": "markdown",
      "metadata": {
        "id": "view-in-github",
        "colab_type": "text"
      },
      "source": [
        "<a href=\"https://colab.research.google.com/github/Sudip-Paul-03/Yes_Bank_Stock_Closing_Price_Analysis_by_Regression_Model/blob/main/Yes_Bank_Stock_Closing_Price_Prediction_by_Regression_Analysis.ipynb\" target=\"_parent\"><img src=\"https://colab.research.google.com/assets/colab-badge.svg\" alt=\"Open In Colab\"/></a>"
      ]
    },
    {
      "cell_type": "markdown",
      "source": [
        "# **Capstone Project - Yes Bank Stock Closing Price Prediction**\n",
        "\n",
        "## **(Supervised - Regression)**"
      ],
      "metadata": {
        "id": "vncDsAP0Gaoa"
      }
    },
    {
      "cell_type": "markdown",
      "source": [
        "##### **Project Type**    - Regression\n",
        "##### **Contribution**    - Team\n",
        "##### **Team Member 1**   - Sudip Paul\n",
        "##### **Team Member 2**   - Sharik Nawaz\n",
        "##### **Team Member 3**   - Bhupesh Rajput\n",
        "##### **Team Member 4**   - Pooja Bramhavanshi"
      ],
      "metadata": {
        "id": "beRrZCGUAJYm"
      }
    },
    {
      "cell_type": "markdown",
      "source": [
        "![147272-yes-bank-share-price-reuters.avif](data:image/avif;base64,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)"
      ],
      "metadata": {
        "id": "1b_o4ROfxqgr"
      }
    },
    {
      "cell_type": "markdown",
      "source": [
        "# **Project Summary -**"
      ],
      "metadata": {
        "id": "FJNUwmbgGyua"
      }
    },
    {
      "cell_type": "markdown",
      "source": [
        "In the realm of financial data analysis, Yes Bank emerges as a compelling subject of study, driven by its eventful trajectory in recent years, particularly since 2018. This project is dedicated to the meticulous analysis and predictive modeling of Yes Bank's stock prices, employing a rich dataset spanning the bank's historical performance. Our core mission centers on the development of robust regression models capable of accurately forecasting the monthly closing price of Yes Bank's stock.\n",
        "\n",
        "The crux of this endeavor lies in its paramount significance, as precise predictions of Yes Bank's stock prices hold immense value for diverse stakeholders, including investors and market participants. Yes Bank, once a stalwart in India's private banking sector, has grappled with complex challenges, including the burden of non-performing assets and entanglements in financial improprieties. The ensuing regulatory interventions by the Reserve Bank of India have rendered Yes Bank's stock price dynamics intricate and unpredictable.\n",
        "\n",
        "To tackle this multifaceted challenge, our project leverages an extensive dataset, encompassing the entire historical spectrum of Yes Bank. Our aim is to construct regression models that aptly capture the nuanced dynamics and underlying trends in Yes Bank's stock prices, all the while accommodating the impact of unforeseeable events and market volatility associated with the bank's performance.\n",
        "\n",
        "Our methodology deploys an array of regression techniques, rigorously scrutinized for their ability to precisely estimate the closing price of Yes Bank's stock. Importantly, the effectiveness of these models hinges on their capacity to incorporate the influence of significant events, such as fraudulent activities involving the bank's founders or regulatory interventions by the Reserve Bank of India.\n",
        "\n",
        "The successful execution of this regression project is poised to offer invaluable insights, equipping stakeholders with the means to make data-driven investment decisions related to Yes Bank. Ultimately, our objective is to navigate the intricate landscape of Yes Bank's stock prices, disentangle the complexities inherent in its financial performance, and empower decision-makers with robust regression models for informed decision-making."
      ],
      "metadata": {
        "id": "F6v_1wHtG2nS"
      }
    },
    {
      "cell_type": "markdown",
      "source": [
        "# **GitHub Link -**"
      ],
      "metadata": {
        "id": "w6K7xa23Elo4"
      }
    },
    {
      "cell_type": "markdown",
      "source": [
        "Provide your GitHub Link here."
      ],
      "metadata": {
        "id": "h1o69JH3Eqqn"
      }
    },
    {
      "cell_type": "markdown",
      "source": [
        "# **Problem Statement**\n"
      ],
      "metadata": {
        "id": "yQaldy8SH6Dl"
      }
    },
    {
      "cell_type": "markdown",
      "source": [
        "#Perform regression analysis using multiple models to predict the closing price of the stock and compare the evaluation metrics for all of them to find the best model"
      ],
      "metadata": {
        "id": "DpeJGUA3kjGy"
      }
    },
    {
      "cell_type": "markdown",
      "source": [
        "# **General Guidelines** : -  "
      ],
      "metadata": {
        "id": "mDgbUHAGgjLW"
      }
    },
    {
      "cell_type": "markdown",
      "source": [
        "1.   Well-structured, formatted, and commented code is required.\n",
        "2.   Exception Handling, Production Grade Code & Deployment Ready Code will be a plus. Those students will be awarded some additional credits.\n",
        "     \n",
        "     The additional credits will have advantages over other students during Star Student selection.\n",
        "       \n",
        "             [ Note: - Deployment Ready Code is defined as, the whole .ipynb notebook should be executable in one go\n",
        "                       without a single error logged. ]\n",
        "\n",
        "3.   Each and every logic should have proper comments.\n",
        "4. You may add as many number of charts you want. Make Sure for each and every chart the following format should be answered.\n",
        "        \n",
        "\n",
        "```\n",
        "# Chart visualization code\n",
        "```\n",
        "            \n",
        "\n",
        "*   Why did you pick the specific chart?\n",
        "*   What is/are the insight(s) found from the chart?\n",
        "* Will the gained insights help creating a positive business impact?\n",
        "Are there any insights that lead to negative growth? Justify with specific reason.\n",
        "\n",
        "5. You have to create at least 15 logical & meaningful charts having important insights.\n",
        "\n",
        "\n",
        "[ Hints : - Do the Vizualization in  a structured way while following \"UBM\" Rule.\n",
        "\n",
        "U - Univariate Analysis,\n",
        "\n",
        "B - Bivariate Analysis (Numerical - Categorical, Numerical - Numerical, Categorical - Categorical)\n",
        "\n",
        "M - Multivariate Analysis\n",
        " ]\n",
        "\n",
        "\n",
        "\n",
        "\n",
        "\n",
        "6. You may add more ml algorithms for model creation. Make sure for each and every algorithm, the following format should be answered.\n",
        "\n",
        "\n",
        "*   Explain the ML Model used and it's performance using Evaluation metric Score Chart.\n",
        "\n",
        "\n",
        "*   Cross- Validation & Hyperparameter Tuning\n",
        "\n",
        "*   Have you seen any improvement? Note down the improvement with updates Evaluation metric Score Chart.\n",
        "\n",
        "*   Explain each evaluation metric's indication towards business and the business impact pf the ML model used.\n",
        "\n",
        "\n",
        "\n",
        "\n",
        "\n",
        "\n",
        "\n",
        "\n",
        "\n",
        "\n",
        "\n",
        "\n",
        "\n",
        "\n",
        "\n",
        "\n",
        "\n",
        "\n"
      ],
      "metadata": {
        "id": "ZrxVaUj-hHfC"
      }
    },
    {
      "cell_type": "markdown",
      "source": [
        "# ***Let's Begin !***"
      ],
      "metadata": {
        "id": "O_i_v8NEhb9l"
      }
    },
    {
      "cell_type": "markdown",
      "source": [
        "## ***1. Know Your Data***"
      ],
      "metadata": {
        "id": "HhfV-JJviCcP"
      }
    },
    {
      "cell_type": "markdown",
      "source": [
        "### Import Libraries"
      ],
      "metadata": {
        "id": "Y3lxredqlCYt"
      }
    },
    {
      "cell_type": "code",
      "source": [
        "# Import Libraries"
      ],
      "metadata": {
        "id": "M8Vqi-pPk-HR"
      },
      "execution_count": null,
      "outputs": []
    },
    {
      "cell_type": "markdown",
      "source": [
        "### Dataset Loading"
      ],
      "metadata": {
        "id": "3RnN4peoiCZX"
      }
    },
    {
      "cell_type": "code",
      "source": [
        "# Load Dataset"
      ],
      "metadata": {
        "id": "4CkvbW_SlZ_R"
      },
      "execution_count": null,
      "outputs": []
    },
    {
      "cell_type": "markdown",
      "source": [
        "### Dataset First View"
      ],
      "metadata": {
        "id": "x71ZqKXriCWQ"
      }
    },
    {
      "cell_type": "code",
      "source": [
        "# Dataset First Look"
      ],
      "metadata": {
        "id": "LWNFOSvLl09H"
      },
      "execution_count": null,
      "outputs": []
    },
    {
      "cell_type": "markdown",
      "source": [
        "### Dataset Rows & Columns count"
      ],
      "metadata": {
        "id": "7hBIi_osiCS2"
      }
    },
    {
      "cell_type": "code",
      "source": [
        "# Dataset Rows & Columns count"
      ],
      "metadata": {
        "id": "Kllu7SJgmLij"
      },
      "execution_count": null,
      "outputs": []
    },
    {
      "cell_type": "markdown",
      "source": [
        "### Dataset Information"
      ],
      "metadata": {
        "id": "JlHwYmJAmNHm"
      }
    },
    {
      "cell_type": "code",
      "source": [
        "# Dataset Info"
      ],
      "metadata": {
        "id": "e9hRXRi6meOf"
      },
      "execution_count": null,
      "outputs": []
    },
    {
      "cell_type": "markdown",
      "source": [
        "#### Duplicate Values"
      ],
      "metadata": {
        "id": "35m5QtbWiB9F"
      }
    },
    {
      "cell_type": "code",
      "source": [
        "# Dataset Duplicate Value Count"
      ],
      "metadata": {
        "id": "1sLdpKYkmox0"
      },
      "execution_count": null,
      "outputs": []
    },
    {
      "cell_type": "markdown",
      "source": [
        "#### Missing Values/Null Values"
      ],
      "metadata": {
        "id": "PoPl-ycgm1ru"
      }
    },
    {
      "cell_type": "code",
      "source": [
        "# Missing Values/Null Values Count"
      ],
      "metadata": {
        "id": "GgHWkxvamxVg"
      },
      "execution_count": null,
      "outputs": []
    },
    {
      "cell_type": "code",
      "source": [
        "# Visualizing the missing values"
      ],
      "metadata": {
        "id": "3q5wnI3om9sJ"
      },
      "execution_count": null,
      "outputs": []
    },
    {
      "cell_type": "markdown",
      "source": [
        "### What did you know about your dataset?"
      ],
      "metadata": {
        "id": "H0kj-8xxnORC"
      }
    },
    {
      "cell_type": "markdown",
      "source": [
        "Answer Here"
      ],
      "metadata": {
        "id": "gfoNAAC-nUe_"
      }
    },
    {
      "cell_type": "markdown",
      "source": [
        "## ***2. Understanding Your Variables***"
      ],
      "metadata": {
        "id": "nA9Y7ga8ng1Z"
      }
    },
    {
      "cell_type": "code",
      "source": [
        "# Dataset Columns"
      ],
      "metadata": {
        "id": "j7xfkqrt5Ag5"
      },
      "execution_count": null,
      "outputs": []
    },
    {
      "cell_type": "code",
      "source": [
        "# Dataset Describe"
      ],
      "metadata": {
        "id": "DnOaZdaE5Q5t"
      },
      "execution_count": null,
      "outputs": []
    },
    {
      "cell_type": "markdown",
      "source": [
        "### Variables Description"
      ],
      "metadata": {
        "id": "PBTbrJXOngz2"
      }
    },
    {
      "cell_type": "markdown",
      "source": [
        "Answer Here"
      ],
      "metadata": {
        "id": "aJV4KIxSnxay"
      }
    },
    {
      "cell_type": "markdown",
      "source": [
        "### Check Unique Values for each variable."
      ],
      "metadata": {
        "id": "u3PMJOP6ngxN"
      }
    },
    {
      "cell_type": "code",
      "source": [
        "# Check Unique Values for each variable."
      ],
      "metadata": {
        "id": "zms12Yq5n-jE"
      },
      "execution_count": null,
      "outputs": []
    },
    {
      "cell_type": "markdown",
      "source": [
        "## 3. ***Data Wrangling***"
      ],
      "metadata": {
        "id": "dauF4eBmngu3"
      }
    },
    {
      "cell_type": "markdown",
      "source": [
        "### Data Wrangling Code"
      ],
      "metadata": {
        "id": "bKJF3rekwFvQ"
      }
    },
    {
      "cell_type": "code",
      "source": [
        "# Write your code to make your dataset analysis ready."
      ],
      "metadata": {
        "id": "wk-9a2fpoLcV"
      },
      "execution_count": null,
      "outputs": []
    },
    {
      "cell_type": "markdown",
      "source": [
        "### What all manipulations have you done and insights you found?"
      ],
      "metadata": {
        "id": "MSa1f5Uengrz"
      }
    },
    {
      "cell_type": "markdown",
      "source": [
        "Answer Here."
      ],
      "metadata": {
        "id": "LbyXE7I1olp8"
      }
    },
    {
      "cell_type": "markdown",
      "source": [
        "## ***4. Data Vizualization, Storytelling & Experimenting with charts : Understand the relationships between variables***"
      ],
      "metadata": {
        "id": "GF8Ens_Soomf"
      }
    },
    {
      "cell_type": "markdown",
      "source": [
        "#### Chart - 1"
      ],
      "metadata": {
        "id": "0wOQAZs5pc--"
      }
    },
    {
      "cell_type": "code",
      "source": [
        "# Chart - 1 visualization code"
      ],
      "metadata": {
        "id": "7v_ESjsspbW7"
      },
      "execution_count": null,
      "outputs": []
    },
    {
      "cell_type": "markdown",
      "source": [
        "##### 1. Why did you pick the specific chart?"
      ],
      "metadata": {
        "id": "K5QZ13OEpz2H"
      }
    },
    {
      "cell_type": "markdown",
      "source": [
        "Answer Here."
      ],
      "metadata": {
        "id": "XESiWehPqBRc"
      }
    },
    {
      "cell_type": "markdown",
      "source": [
        "##### 2. What is/are the insight(s) found from the chart?"
      ],
      "metadata": {
        "id": "lQ7QKXXCp7Bj"
      }
    },
    {
      "cell_type": "markdown",
      "source": [
        "Answer Here"
      ],
      "metadata": {
        "id": "C_j1G7yiqdRP"
      }
    },
    {
      "cell_type": "markdown",
      "source": [
        "##### 3. Will the gained insights help creating a positive business impact?\n",
        "Are there any insights that lead to negative growth? Justify with specific reason."
      ],
      "metadata": {
        "id": "448CDAPjqfQr"
      }
    },
    {
      "cell_type": "markdown",
      "source": [
        "Answer Here"
      ],
      "metadata": {
        "id": "3cspy4FjqxJW"
      }
    },
    {
      "cell_type": "markdown",
      "source": [
        "#### Chart - 2"
      ],
      "metadata": {
        "id": "KSlN3yHqYklG"
      }
    },
    {
      "cell_type": "code",
      "source": [
        "# Chart - 2 visualization code"
      ],
      "metadata": {
        "id": "R4YgtaqtYklH"
      },
      "execution_count": null,
      "outputs": []
    },
    {
      "cell_type": "markdown",
      "source": [
        "##### 1. Why did you pick the specific chart?"
      ],
      "metadata": {
        "id": "t6dVpIINYklI"
      }
    },
    {
      "cell_type": "markdown",
      "source": [
        "Answer Here."
      ],
      "metadata": {
        "id": "5aaW0BYyYklI"
      }
    },
    {
      "cell_type": "markdown",
      "source": [
        "##### 2. What is/are the insight(s) found from the chart?"
      ],
      "metadata": {
        "id": "ijmpgYnKYklI"
      }
    },
    {
      "cell_type": "markdown",
      "source": [
        "Answer Here"
      ],
      "metadata": {
        "id": "PSx9atu2YklI"
      }
    },
    {
      "cell_type": "markdown",
      "source": [
        "##### 3. Will the gained insights help creating a positive business impact?\n",
        "Are there any insights that lead to negative growth? Justify with specific reason."
      ],
      "metadata": {
        "id": "-JiQyfWJYklI"
      }
    },
    {
      "cell_type": "markdown",
      "source": [
        "Answer Here"
      ],
      "metadata": {
        "id": "BcBbebzrYklV"
      }
    },
    {
      "cell_type": "markdown",
      "source": [
        "#### Chart - 3"
      ],
      "metadata": {
        "id": "EM7whBJCYoAo"
      }
    },
    {
      "cell_type": "code",
      "source": [
        "# Chart - 3 visualization code"
      ],
      "metadata": {
        "id": "t6GMdE67YoAp"
      },
      "execution_count": null,
      "outputs": []
    },
    {
      "cell_type": "markdown",
      "source": [
        "##### 1. Why did you pick the specific chart?"
      ],
      "metadata": {
        "id": "fge-S5ZAYoAp"
      }
    },
    {
      "cell_type": "markdown",
      "source": [
        "Answer Here."
      ],
      "metadata": {
        "id": "5dBItgRVYoAp"
      }
    },
    {
      "cell_type": "markdown",
      "source": [
        "##### 2. What is/are the insight(s) found from the chart?"
      ],
      "metadata": {
        "id": "85gYPyotYoAp"
      }
    },
    {
      "cell_type": "markdown",
      "source": [
        "Answer Here"
      ],
      "metadata": {
        "id": "4jstXR6OYoAp"
      }
    },
    {
      "cell_type": "markdown",
      "source": [
        "##### 3. Will the gained insights help creating a positive business impact?\n",
        "Are there any insights that lead to negative growth? Justify with specific reason."
      ],
      "metadata": {
        "id": "RoGjAbkUYoAp"
      }
    },
    {
      "cell_type": "markdown",
      "source": [
        "Answer Here"
      ],
      "metadata": {
        "id": "zfJ8IqMcYoAp"
      }
    },
    {
      "cell_type": "markdown",
      "source": [
        "#### Chart - 4"
      ],
      "metadata": {
        "id": "4Of9eVA-YrdM"
      }
    },
    {
      "cell_type": "code",
      "source": [
        "# Chart - 4 visualization code"
      ],
      "metadata": {
        "id": "irlUoxc8YrdO"
      },
      "execution_count": null,
      "outputs": []
    },
    {
      "cell_type": "markdown",
      "source": [
        "##### 1. Why did you pick the specific chart?"
      ],
      "metadata": {
        "id": "iky9q4vBYrdO"
      }
    },
    {
      "cell_type": "markdown",
      "source": [
        "Answer Here."
      ],
      "metadata": {
        "id": "aJRCwT6DYrdO"
      }
    },
    {
      "cell_type": "markdown",
      "source": [
        "##### 2. What is/are the insight(s) found from the chart?"
      ],
      "metadata": {
        "id": "F6T5p64dYrdO"
      }
    },
    {
      "cell_type": "markdown",
      "source": [
        "Answer Here"
      ],
      "metadata": {
        "id": "Xx8WAJvtYrdO"
      }
    },
    {
      "cell_type": "markdown",
      "source": [
        "##### 3. Will the gained insights help creating a positive business impact?\n",
        "Are there any insights that lead to negative growth? Justify with specific reason."
      ],
      "metadata": {
        "id": "y-Ehk30pYrdP"
      }
    },
    {
      "cell_type": "markdown",
      "source": [
        "Answer Here"
      ],
      "metadata": {
        "id": "jLNxxz7MYrdP"
      }
    },
    {
      "cell_type": "markdown",
      "source": [
        "#### Chart - 5"
      ],
      "metadata": {
        "id": "bamQiAODYuh1"
      }
    },
    {
      "cell_type": "code",
      "source": [
        "# Chart - 5 visualization code"
      ],
      "metadata": {
        "id": "TIJwrbroYuh3"
      },
      "execution_count": null,
      "outputs": []
    },
    {
      "cell_type": "markdown",
      "source": [
        "##### 1. Why did you pick the specific chart?"
      ],
      "metadata": {
        "id": "QHF8YVU7Yuh3"
      }
    },
    {
      "cell_type": "markdown",
      "source": [
        "Answer Here."
      ],
      "metadata": {
        "id": "dcxuIMRPYuh3"
      }
    },
    {
      "cell_type": "markdown",
      "source": [
        "##### 2. What is/are the insight(s) found from the chart?"
      ],
      "metadata": {
        "id": "GwzvFGzlYuh3"
      }
    },
    {
      "cell_type": "markdown",
      "source": [
        "Answer Here"
      ],
      "metadata": {
        "id": "uyqkiB8YYuh3"
      }
    },
    {
      "cell_type": "markdown",
      "source": [
        "##### 3. Will the gained insights help creating a positive business impact?\n",
        "Are there any insights that lead to negative growth? Justify with specific reason."
      ],
      "metadata": {
        "id": "qYpmQ266Yuh3"
      }
    },
    {
      "cell_type": "markdown",
      "source": [
        "Answer Here"
      ],
      "metadata": {
        "id": "_WtzZ_hCYuh4"
      }
    },
    {
      "cell_type": "markdown",
      "source": [
        "#### Chart - 6"
      ],
      "metadata": {
        "id": "OH-pJp9IphqM"
      }
    },
    {
      "cell_type": "code",
      "source": [
        "# Chart - 6 visualization code"
      ],
      "metadata": {
        "id": "kuRf4wtuphqN"
      },
      "execution_count": null,
      "outputs": []
    },
    {
      "cell_type": "markdown",
      "source": [
        "##### 1. Why did you pick the specific chart?"
      ],
      "metadata": {
        "id": "bbFf2-_FphqN"
      }
    },
    {
      "cell_type": "markdown",
      "source": [
        "Answer Here."
      ],
      "metadata": {
        "id": "loh7H2nzphqN"
      }
    },
    {
      "cell_type": "markdown",
      "source": [
        "##### 2. What is/are the insight(s) found from the chart?"
      ],
      "metadata": {
        "id": "_ouA3fa0phqN"
      }
    },
    {
      "cell_type": "markdown",
      "source": [
        "Answer Here"
      ],
      "metadata": {
        "id": "VECbqPI7phqN"
      }
    },
    {
      "cell_type": "markdown",
      "source": [
        "##### 3. Will the gained insights help creating a positive business impact?\n",
        "Are there any insights that lead to negative growth? Justify with specific reason."
      ],
      "metadata": {
        "id": "Seke61FWphqN"
      }
    },
    {
      "cell_type": "markdown",
      "source": [
        "Answer Here"
      ],
      "metadata": {
        "id": "DW4_bGpfphqN"
      }
    },
    {
      "cell_type": "markdown",
      "source": [
        "#### Chart - 7"
      ],
      "metadata": {
        "id": "PIIx-8_IphqN"
      }
    },
    {
      "cell_type": "code",
      "source": [
        "# Chart - 7 visualization code"
      ],
      "metadata": {
        "id": "lqAIGUfyphqO"
      },
      "execution_count": null,
      "outputs": []
    },
    {
      "cell_type": "markdown",
      "source": [
        "##### 1. Why did you pick the specific chart?"
      ],
      "metadata": {
        "id": "t27r6nlMphqO"
      }
    },
    {
      "cell_type": "markdown",
      "source": [
        "Answer Here."
      ],
      "metadata": {
        "id": "iv6ro40sphqO"
      }
    },
    {
      "cell_type": "markdown",
      "source": [
        "##### 2. What is/are the insight(s) found from the chart?"
      ],
      "metadata": {
        "id": "r2jJGEOYphqO"
      }
    },
    {
      "cell_type": "markdown",
      "source": [
        "Answer Here"
      ],
      "metadata": {
        "id": "Po6ZPi4hphqO"
      }
    },
    {
      "cell_type": "markdown",
      "source": [
        "##### 3. Will the gained insights help creating a positive business impact?\n",
        "Are there any insights that lead to negative growth? Justify with specific reason."
      ],
      "metadata": {
        "id": "b0JNsNcRphqO"
      }
    },
    {
      "cell_type": "markdown",
      "source": [
        "Answer Here"
      ],
      "metadata": {
        "id": "xvSq8iUTphqO"
      }
    },
    {
      "cell_type": "markdown",
      "source": [
        "#### Chart - 8"
      ],
      "metadata": {
        "id": "BZR9WyysphqO"
      }
    },
    {
      "cell_type": "code",
      "source": [
        "# Chart - 8 visualization code"
      ],
      "metadata": {
        "id": "TdPTWpAVphqO"
      },
      "execution_count": null,
      "outputs": []
    },
    {
      "cell_type": "markdown",
      "source": [
        "##### 1. Why did you pick the specific chart?"
      ],
      "metadata": {
        "id": "jj7wYXLtphqO"
      }
    },
    {
      "cell_type": "markdown",
      "source": [
        "Answer Here."
      ],
      "metadata": {
        "id": "Ob8u6rCTphqO"
      }
    },
    {
      "cell_type": "markdown",
      "source": [
        "##### 2. What is/are the insight(s) found from the chart?"
      ],
      "metadata": {
        "id": "eZrbJ2SmphqO"
      }
    },
    {
      "cell_type": "markdown",
      "source": [
        "Answer Here"
      ],
      "metadata": {
        "id": "mZtgC_hjphqO"
      }
    },
    {
      "cell_type": "markdown",
      "source": [
        "##### 3. Will the gained insights help creating a positive business impact?\n",
        "Are there any insights that lead to negative growth? Justify with specific reason."
      ],
      "metadata": {
        "id": "rFu4xreNphqO"
      }
    },
    {
      "cell_type": "markdown",
      "source": [
        "Answer Here"
      ],
      "metadata": {
        "id": "ey_0qi68phqO"
      }
    },
    {
      "cell_type": "markdown",
      "source": [
        "#### Chart - 9"
      ],
      "metadata": {
        "id": "YJ55k-q6phqO"
      }
    },
    {
      "cell_type": "code",
      "source": [
        "# Chart - 9 visualization code"
      ],
      "metadata": {
        "id": "B2aS4O1ophqO"
      },
      "execution_count": null,
      "outputs": []
    },
    {
      "cell_type": "markdown",
      "source": [
        "##### 1. Why did you pick the specific chart?"
      ],
      "metadata": {
        "id": "gCFgpxoyphqP"
      }
    },
    {
      "cell_type": "markdown",
      "source": [
        "Answer Here."
      ],
      "metadata": {
        "id": "TVxDimi2phqP"
      }
    },
    {
      "cell_type": "markdown",
      "source": [
        "##### 2. What is/are the insight(s) found from the chart?"
      ],
      "metadata": {
        "id": "OVtJsKN_phqQ"
      }
    },
    {
      "cell_type": "markdown",
      "source": [
        "Answer Here"
      ],
      "metadata": {
        "id": "ngGi97qjphqQ"
      }
    },
    {
      "cell_type": "markdown",
      "source": [
        "##### 3. Will the gained insights help creating a positive business impact?\n",
        "Are there any insights that lead to negative growth? Justify with specific reason."
      ],
      "metadata": {
        "id": "lssrdh5qphqQ"
      }
    },
    {
      "cell_type": "markdown",
      "source": [
        "Answer Here"
      ],
      "metadata": {
        "id": "tBpY5ekJphqQ"
      }
    },
    {
      "cell_type": "markdown",
      "source": [
        "#### Chart - 10"
      ],
      "metadata": {
        "id": "U2RJ9gkRphqQ"
      }
    },
    {
      "cell_type": "code",
      "source": [
        "# Chart - 10 visualization code"
      ],
      "metadata": {
        "id": "GM7a4YP4phqQ"
      },
      "execution_count": null,
      "outputs": []
    },
    {
      "cell_type": "markdown",
      "source": [
        "##### 1. Why did you pick the specific chart?"
      ],
      "metadata": {
        "id": "1M8mcRywphqQ"
      }
    },
    {
      "cell_type": "markdown",
      "source": [
        "Answer Here."
      ],
      "metadata": {
        "id": "8agQvks0phqQ"
      }
    },
    {
      "cell_type": "markdown",
      "source": [
        "##### 2. What is/are the insight(s) found from the chart?"
      ],
      "metadata": {
        "id": "tgIPom80phqQ"
      }
    },
    {
      "cell_type": "markdown",
      "source": [
        "Answer Here"
      ],
      "metadata": {
        "id": "Qp13pnNzphqQ"
      }
    },
    {
      "cell_type": "markdown",
      "source": [
        "##### 3. Will the gained insights help creating a positive business impact?\n",
        "Are there any insights that lead to negative growth? Justify with specific reason."
      ],
      "metadata": {
        "id": "JMzcOPDDphqR"
      }
    },
    {
      "cell_type": "markdown",
      "source": [
        "Answer Here"
      ],
      "metadata": {
        "id": "R4Ka1PC2phqR"
      }
    },
    {
      "cell_type": "markdown",
      "source": [
        "#### Chart - 11"
      ],
      "metadata": {
        "id": "x-EpHcCOp1ci"
      }
    },
    {
      "cell_type": "code",
      "source": [
        "# Chart - 11 visualization code"
      ],
      "metadata": {
        "id": "mAQTIvtqp1cj"
      },
      "execution_count": null,
      "outputs": []
    },
    {
      "cell_type": "markdown",
      "source": [
        "##### 1. Why did you pick the specific chart?"
      ],
      "metadata": {
        "id": "X_VqEhTip1ck"
      }
    },
    {
      "cell_type": "markdown",
      "source": [
        "Answer Here."
      ],
      "metadata": {
        "id": "-vsMzt_np1ck"
      }
    },
    {
      "cell_type": "markdown",
      "source": [
        "##### 2. What is/are the insight(s) found from the chart?"
      ],
      "metadata": {
        "id": "8zGJKyg5p1ck"
      }
    },
    {
      "cell_type": "markdown",
      "source": [
        "Answer Here"
      ],
      "metadata": {
        "id": "ZYdMsrqVp1ck"
      }
    },
    {
      "cell_type": "markdown",
      "source": [
        "##### 3. Will the gained insights help creating a positive business impact?\n",
        "Are there any insights that lead to negative growth? Justify with specific reason."
      ],
      "metadata": {
        "id": "PVzmfK_Ep1ck"
      }
    },
    {
      "cell_type": "markdown",
      "source": [
        "Answer Here"
      ],
      "metadata": {
        "id": "druuKYZpp1ck"
      }
    },
    {
      "cell_type": "markdown",
      "source": [
        "#### Chart - 12"
      ],
      "metadata": {
        "id": "n3dbpmDWp1ck"
      }
    },
    {
      "cell_type": "code",
      "source": [
        "# Chart - 12 visualization code"
      ],
      "metadata": {
        "id": "bwevp1tKp1ck"
      },
      "execution_count": null,
      "outputs": []
    },
    {
      "cell_type": "markdown",
      "source": [
        "##### 1. Why did you pick the specific chart?"
      ],
      "metadata": {
        "id": "ylSl6qgtp1ck"
      }
    },
    {
      "cell_type": "markdown",
      "source": [
        "Answer Here."
      ],
      "metadata": {
        "id": "m2xqNkiQp1ck"
      }
    },
    {
      "cell_type": "markdown",
      "source": [
        "##### 2. What is/are the insight(s) found from the chart?"
      ],
      "metadata": {
        "id": "ZWILFDl5p1ck"
      }
    },
    {
      "cell_type": "markdown",
      "source": [
        "Answer Here"
      ],
      "metadata": {
        "id": "x-lUsV2mp1ck"
      }
    },
    {
      "cell_type": "markdown",
      "source": [
        "##### 3. Will the gained insights help creating a positive business impact?\n",
        "Are there any insights that lead to negative growth? Justify with specific reason."
      ],
      "metadata": {
        "id": "M7G43BXep1ck"
      }
    },
    {
      "cell_type": "markdown",
      "source": [
        "Answer Here"
      ],
      "metadata": {
        "id": "5wwDJXsLp1cl"
      }
    },
    {
      "cell_type": "markdown",
      "source": [
        "#### Chart - 13"
      ],
      "metadata": {
        "id": "Ag9LCva-p1cl"
      }
    },
    {
      "cell_type": "code",
      "source": [
        "# Chart - 13 visualization code"
      ],
      "metadata": {
        "id": "EUfxeq9-p1cl"
      },
      "execution_count": null,
      "outputs": []
    },
    {
      "cell_type": "markdown",
      "source": [
        "##### 1. Why did you pick the specific chart?"
      ],
      "metadata": {
        "id": "E6MkPsBcp1cl"
      }
    },
    {
      "cell_type": "markdown",
      "source": [
        "Answer Here."
      ],
      "metadata": {
        "id": "V22bRsFWp1cl"
      }
    },
    {
      "cell_type": "markdown",
      "source": [
        "##### 2. What is/are the insight(s) found from the chart?"
      ],
      "metadata": {
        "id": "2cELzS2fp1cl"
      }
    },
    {
      "cell_type": "markdown",
      "source": [
        "Answer Here"
      ],
      "metadata": {
        "id": "ozQPc2_Ip1cl"
      }
    },
    {
      "cell_type": "markdown",
      "source": [
        "##### 3. Will the gained insights help creating a positive business impact?\n",
        "Are there any insights that lead to negative growth? Justify with specific reason."
      ],
      "metadata": {
        "id": "3MPXvC8up1cl"
      }
    },
    {
      "cell_type": "markdown",
      "source": [
        "Answer Here"
      ],
      "metadata": {
        "id": "GL8l1tdLp1cl"
      }
    },
    {
      "cell_type": "markdown",
      "source": [
        "#### Chart - 14 - Correlation Heatmap"
      ],
      "metadata": {
        "id": "NC_X3p0fY2L0"
      }
    },
    {
      "cell_type": "code",
      "source": [
        "# Correlation Heatmap visualization code"
      ],
      "metadata": {
        "id": "xyC9zolEZNRQ"
      },
      "execution_count": null,
      "outputs": []
    },
    {
      "cell_type": "markdown",
      "source": [
        "##### 1. Why did you pick the specific chart?"
      ],
      "metadata": {
        "id": "UV0SzAkaZNRQ"
      }
    },
    {
      "cell_type": "markdown",
      "source": [
        "Answer Here."
      ],
      "metadata": {
        "id": "DVPuT8LYZNRQ"
      }
    },
    {
      "cell_type": "markdown",
      "source": [
        "##### 2. What is/are the insight(s) found from the chart?"
      ],
      "metadata": {
        "id": "YPEH6qLeZNRQ"
      }
    },
    {
      "cell_type": "markdown",
      "source": [
        "Answer Here"
      ],
      "metadata": {
        "id": "bfSqtnDqZNRR"
      }
    },
    {
      "cell_type": "markdown",
      "source": [
        "#### Chart - 15 - Pair Plot"
      ],
      "metadata": {
        "id": "q29F0dvdveiT"
      }
    },
    {
      "cell_type": "code",
      "source": [
        "# Pair Plot visualization code"
      ],
      "metadata": {
        "id": "o58-TEIhveiU"
      },
      "execution_count": null,
      "outputs": []
    },
    {
      "cell_type": "markdown",
      "source": [
        "##### 1. Why did you pick the specific chart?"
      ],
      "metadata": {
        "id": "EXh0U9oCveiU"
      }
    },
    {
      "cell_type": "markdown",
      "source": [
        "Answer Here."
      ],
      "metadata": {
        "id": "eMmPjTByveiU"
      }
    },
    {
      "cell_type": "markdown",
      "source": [
        "##### 2. What is/are the insight(s) found from the chart?"
      ],
      "metadata": {
        "id": "22aHeOlLveiV"
      }
    },
    {
      "cell_type": "markdown",
      "source": [
        "Answer Here"
      ],
      "metadata": {
        "id": "uPQ8RGwHveiV"
      }
    },
    {
      "cell_type": "markdown",
      "source": [
        "## ***5. Hypothesis Testing***"
      ],
      "metadata": {
        "id": "g-ATYxFrGrvw"
      }
    },
    {
      "cell_type": "markdown",
      "source": [
        "### Based on your chart experiments, define three hypothetical statements from the dataset. In the next three questions, perform hypothesis testing to obtain final conclusion about the statements through your code and statistical testing."
      ],
      "metadata": {
        "id": "Yfr_Vlr8HBkt"
      }
    },
    {
      "cell_type": "markdown",
      "source": [
        "Answer Here."
      ],
      "metadata": {
        "id": "-7MS06SUHkB-"
      }
    },
    {
      "cell_type": "markdown",
      "source": [
        "### Hypothetical Statement - 1"
      ],
      "metadata": {
        "id": "8yEUt7NnHlrM"
      }
    },
    {
      "cell_type": "markdown",
      "source": [
        "#### 1. State Your research hypothesis as a null hypothesis and alternate hypothesis."
      ],
      "metadata": {
        "id": "tEA2Xm5dHt1r"
      }
    },
    {
      "cell_type": "markdown",
      "source": [
        "Answer Here."
      ],
      "metadata": {
        "id": "HI9ZP0laH0D-"
      }
    },
    {
      "cell_type": "markdown",
      "source": [
        "#### 2. Perform an appropriate statistical test."
      ],
      "metadata": {
        "id": "I79__PHVH19G"
      }
    },
    {
      "cell_type": "code",
      "source": [
        "# Perform Statistical Test to obtain P-Value"
      ],
      "metadata": {
        "id": "oZrfquKtyian"
      },
      "execution_count": null,
      "outputs": []
    },
    {
      "cell_type": "markdown",
      "source": [
        "##### Which statistical test have you done to obtain P-Value?"
      ],
      "metadata": {
        "id": "Ou-I18pAyIpj"
      }
    },
    {
      "cell_type": "markdown",
      "source": [
        "Answer Here."
      ],
      "metadata": {
        "id": "s2U0kk00ygSB"
      }
    },
    {
      "cell_type": "markdown",
      "source": [
        "##### Why did you choose the specific statistical test?"
      ],
      "metadata": {
        "id": "fF3858GYyt-u"
      }
    },
    {
      "cell_type": "markdown",
      "source": [
        "Answer Here."
      ],
      "metadata": {
        "id": "HO4K0gP5y3B4"
      }
    },
    {
      "cell_type": "markdown",
      "source": [
        "### Hypothetical Statement - 2"
      ],
      "metadata": {
        "id": "4_0_7-oCpUZd"
      }
    },
    {
      "cell_type": "markdown",
      "source": [
        "#### 1. State Your research hypothesis as a null hypothesis and alternate hypothesis."
      ],
      "metadata": {
        "id": "hwyV_J3ipUZe"
      }
    },
    {
      "cell_type": "markdown",
      "source": [
        "Answer Here."
      ],
      "metadata": {
        "id": "FnpLGJ-4pUZe"
      }
    },
    {
      "cell_type": "markdown",
      "source": [
        "#### 2. Perform an appropriate statistical test."
      ],
      "metadata": {
        "id": "3yB-zSqbpUZe"
      }
    },
    {
      "cell_type": "code",
      "source": [
        "# Perform Statistical Test to obtain P-Value"
      ],
      "metadata": {
        "id": "sWxdNTXNpUZe"
      },
      "execution_count": null,
      "outputs": []
    },
    {
      "cell_type": "markdown",
      "source": [
        "##### Which statistical test have you done to obtain P-Value?"
      ],
      "metadata": {
        "id": "dEUvejAfpUZe"
      }
    },
    {
      "cell_type": "markdown",
      "source": [
        "Answer Here."
      ],
      "metadata": {
        "id": "oLDrPz7HpUZf"
      }
    },
    {
      "cell_type": "markdown",
      "source": [
        "##### Why did you choose the specific statistical test?"
      ],
      "metadata": {
        "id": "Fd15vwWVpUZf"
      }
    },
    {
      "cell_type": "markdown",
      "source": [
        "Answer Here."
      ],
      "metadata": {
        "id": "4xOGYyiBpUZf"
      }
    },
    {
      "cell_type": "markdown",
      "source": [
        "### Hypothetical Statement - 3"
      ],
      "metadata": {
        "id": "bn_IUdTipZyH"
      }
    },
    {
      "cell_type": "markdown",
      "source": [
        "#### 1. State Your research hypothesis as a null hypothesis and alternate hypothesis."
      ],
      "metadata": {
        "id": "49K5P_iCpZyH"
      }
    },
    {
      "cell_type": "markdown",
      "source": [
        "Answer Here."
      ],
      "metadata": {
        "id": "7gWI5rT9pZyH"
      }
    },
    {
      "cell_type": "markdown",
      "source": [
        "#### 2. Perform an appropriate statistical test."
      ],
      "metadata": {
        "id": "Nff-vKELpZyI"
      }
    },
    {
      "cell_type": "code",
      "source": [
        "# Perform Statistical Test to obtain P-Value"
      ],
      "metadata": {
        "id": "s6AnJQjtpZyI"
      },
      "execution_count": null,
      "outputs": []
    },
    {
      "cell_type": "markdown",
      "source": [
        "##### Which statistical test have you done to obtain P-Value?"
      ],
      "metadata": {
        "id": "kLW572S8pZyI"
      }
    },
    {
      "cell_type": "markdown",
      "source": [
        "Answer Here."
      ],
      "metadata": {
        "id": "ytWJ8v15pZyI"
      }
    },
    {
      "cell_type": "markdown",
      "source": [
        "##### Why did you choose the specific statistical test?"
      ],
      "metadata": {
        "id": "dWbDXHzopZyI"
      }
    },
    {
      "cell_type": "markdown",
      "source": [
        "Answer Here."
      ],
      "metadata": {
        "id": "M99G98V6pZyI"
      }
    },
    {
      "cell_type": "markdown",
      "source": [
        "## ***6. Feature Engineering & Data Pre-processing***"
      ],
      "metadata": {
        "id": "yLjJCtPM0KBk"
      }
    },
    {
      "cell_type": "markdown",
      "source": [
        "### 1. Handling Missing Values"
      ],
      "metadata": {
        "id": "xiyOF9F70UgQ"
      }
    },
    {
      "cell_type": "code",
      "source": [
        "# Handling Missing Values & Missing Value Imputation"
      ],
      "metadata": {
        "id": "iRsAHk1K0fpS"
      },
      "execution_count": null,
      "outputs": []
    },
    {
      "cell_type": "markdown",
      "source": [
        "#### What all missing value imputation techniques have you used and why did you use those techniques?"
      ],
      "metadata": {
        "id": "7wuGOrhz0itI"
      }
    },
    {
      "cell_type": "markdown",
      "source": [
        "Answer Here."
      ],
      "metadata": {
        "id": "1ixusLtI0pqI"
      }
    },
    {
      "cell_type": "markdown",
      "source": [
        "### 2. Handling Outliers"
      ],
      "metadata": {
        "id": "id1riN9m0vUs"
      }
    },
    {
      "cell_type": "code",
      "source": [
        "# Handling Outliers & Outlier treatments"
      ],
      "metadata": {
        "id": "M6w2CzZf04JK"
      },
      "execution_count": null,
      "outputs": []
    },
    {
      "cell_type": "markdown",
      "source": [
        "##### What all outlier treatment techniques have you used and why did you use those techniques?"
      ],
      "metadata": {
        "id": "578E2V7j08f6"
      }
    },
    {
      "cell_type": "markdown",
      "source": [
        "Answer Here."
      ],
      "metadata": {
        "id": "uGZz5OrT1HH-"
      }
    },
    {
      "cell_type": "markdown",
      "source": [
        "### 3. Categorical Encoding"
      ],
      "metadata": {
        "id": "89xtkJwZ18nB"
      }
    },
    {
      "cell_type": "code",
      "source": [
        "# Encode your categorical columns"
      ],
      "metadata": {
        "id": "21JmIYMG2hEo"
      },
      "execution_count": null,
      "outputs": []
    },
    {
      "cell_type": "markdown",
      "source": [
        "#### What all categorical encoding techniques have you used & why did you use those techniques?"
      ],
      "metadata": {
        "id": "67NQN5KX2AMe"
      }
    },
    {
      "cell_type": "markdown",
      "source": [
        "Answer Here."
      ],
      "metadata": {
        "id": "UDaue5h32n_G"
      }
    },
    {
      "cell_type": "markdown",
      "source": [
        "### 4. Textual Data Preprocessing\n",
        "(It's mandatory for textual dataset i.e., NLP, Sentiment Analysis, Text Clustering etc.)"
      ],
      "metadata": {
        "id": "Iwf50b-R2tYG"
      }
    },
    {
      "cell_type": "markdown",
      "source": [
        "#### 1. Expand Contraction"
      ],
      "metadata": {
        "id": "GMQiZwjn3iu7"
      }
    },
    {
      "cell_type": "code",
      "source": [
        "# Expand Contraction"
      ],
      "metadata": {
        "id": "PTouz10C3oNN"
      },
      "execution_count": null,
      "outputs": []
    },
    {
      "cell_type": "markdown",
      "source": [
        "#### 2. Lower Casing"
      ],
      "metadata": {
        "id": "WVIkgGqN3qsr"
      }
    },
    {
      "cell_type": "code",
      "source": [
        "# Lower Casing"
      ],
      "metadata": {
        "id": "88JnJ1jN3w7j"
      },
      "execution_count": null,
      "outputs": []
    },
    {
      "cell_type": "markdown",
      "source": [
        "#### 3. Removing Punctuations"
      ],
      "metadata": {
        "id": "XkPnILGE3zoT"
      }
    },
    {
      "cell_type": "code",
      "source": [
        "# Remove Punctuations"
      ],
      "metadata": {
        "id": "vqbBqNaA33c0"
      },
      "execution_count": null,
      "outputs": []
    },
    {
      "cell_type": "markdown",
      "source": [
        "#### 4. Removing URLs & Removing words and digits contain digits."
      ],
      "metadata": {
        "id": "Hlsf0x5436Go"
      }
    },
    {
      "cell_type": "code",
      "source": [
        "# Remove URLs & Remove words and digits contain digits"
      ],
      "metadata": {
        "id": "2sxKgKxu4Ip3"
      },
      "execution_count": null,
      "outputs": []
    },
    {
      "cell_type": "markdown",
      "source": [
        "#### 5. Removing Stopwords & Removing White spaces"
      ],
      "metadata": {
        "id": "mT9DMSJo4nBL"
      }
    },
    {
      "cell_type": "code",
      "source": [
        "# Remove Stopwords"
      ],
      "metadata": {
        "id": "T2LSJh154s8W"
      },
      "execution_count": null,
      "outputs": []
    },
    {
      "cell_type": "code",
      "source": [
        "# Remove White spaces"
      ],
      "metadata": {
        "id": "EgLJGffy4vm0"
      },
      "execution_count": null,
      "outputs": []
    },
    {
      "cell_type": "markdown",
      "source": [
        "#### 6. Rephrase Text"
      ],
      "metadata": {
        "id": "c49ITxTc407N"
      }
    },
    {
      "cell_type": "code",
      "source": [
        "# Rephrase Text"
      ],
      "metadata": {
        "id": "foqY80Qu48N2"
      },
      "execution_count": null,
      "outputs": []
    },
    {
      "cell_type": "markdown",
      "source": [
        "#### 7. Tokenization"
      ],
      "metadata": {
        "id": "OeJFEK0N496M"
      }
    },
    {
      "cell_type": "code",
      "source": [
        "# Tokenization"
      ],
      "metadata": {
        "id": "ijx1rUOS5CUU"
      },
      "execution_count": null,
      "outputs": []
    },
    {
      "cell_type": "markdown",
      "source": [
        "#### 8. Text Normalization"
      ],
      "metadata": {
        "id": "9ExmJH0g5HBk"
      }
    },
    {
      "cell_type": "code",
      "source": [
        "# Normalizing Text (i.e., Stemming, Lemmatization etc.)"
      ],
      "metadata": {
        "id": "AIJ1a-Zc5PY8"
      },
      "execution_count": null,
      "outputs": []
    },
    {
      "cell_type": "markdown",
      "source": [
        "##### Which text normalization technique have you used and why?"
      ],
      "metadata": {
        "id": "cJNqERVU536h"
      }
    },
    {
      "cell_type": "markdown",
      "source": [
        "Answer Here."
      ],
      "metadata": {
        "id": "Z9jKVxE06BC1"
      }
    },
    {
      "cell_type": "markdown",
      "source": [
        "#### 9. Part of speech tagging"
      ],
      "metadata": {
        "id": "k5UmGsbsOxih"
      }
    },
    {
      "cell_type": "code",
      "source": [
        "# POS Taging"
      ],
      "metadata": {
        "id": "btT3ZJBAO6Ik"
      },
      "execution_count": null,
      "outputs": []
    },
    {
      "cell_type": "markdown",
      "source": [
        "#### 10. Text Vectorization"
      ],
      "metadata": {
        "id": "T0VqWOYE6DLQ"
      }
    },
    {
      "cell_type": "code",
      "source": [
        "# Vectorizing Text"
      ],
      "metadata": {
        "id": "yBRtdhth6JDE"
      },
      "execution_count": null,
      "outputs": []
    },
    {
      "cell_type": "markdown",
      "source": [
        "##### Which text vectorization technique have you used and why?"
      ],
      "metadata": {
        "id": "qBMux9mC6MCf"
      }
    },
    {
      "cell_type": "markdown",
      "source": [
        "Answer Here."
      ],
      "metadata": {
        "id": "su2EnbCh6UKQ"
      }
    },
    {
      "cell_type": "markdown",
      "source": [
        "### 4. Feature Manipulation & Selection"
      ],
      "metadata": {
        "id": "-oLEiFgy-5Pf"
      }
    },
    {
      "cell_type": "markdown",
      "source": [
        "#### 1. Feature Manipulation"
      ],
      "metadata": {
        "id": "C74aWNz2AliB"
      }
    },
    {
      "cell_type": "code",
      "source": [
        "# Manipulate Features to minimize feature correlation and create new features"
      ],
      "metadata": {
        "id": "h1qC4yhBApWC"
      },
      "execution_count": null,
      "outputs": []
    },
    {
      "cell_type": "markdown",
      "source": [
        "#### 2. Feature Selection"
      ],
      "metadata": {
        "id": "2DejudWSA-a0"
      }
    },
    {
      "cell_type": "code",
      "source": [
        "# Select your features wisely to avoid overfitting"
      ],
      "metadata": {
        "id": "YLhe8UmaBCEE"
      },
      "execution_count": null,
      "outputs": []
    },
    {
      "cell_type": "markdown",
      "source": [
        "##### What all feature selection methods have you used  and why?"
      ],
      "metadata": {
        "id": "pEMng2IbBLp7"
      }
    },
    {
      "cell_type": "markdown",
      "source": [
        "Answer Here."
      ],
      "metadata": {
        "id": "rb2Lh6Z8BgGs"
      }
    },
    {
      "cell_type": "markdown",
      "source": [
        "##### Which all features you found important and why?"
      ],
      "metadata": {
        "id": "rAdphbQ9Bhjc"
      }
    },
    {
      "cell_type": "markdown",
      "source": [
        "Answer Here."
      ],
      "metadata": {
        "id": "fGgaEstsBnaf"
      }
    },
    {
      "cell_type": "markdown",
      "source": [
        "### 5. Data Transformation"
      ],
      "metadata": {
        "id": "TNVZ9zx19K6k"
      }
    },
    {
      "cell_type": "markdown",
      "source": [
        "#### Do you think that your data needs to be transformed? If yes, which transformation have you used. Explain Why?"
      ],
      "metadata": {
        "id": "nqoHp30x9hH9"
      }
    },
    {
      "cell_type": "code",
      "source": [
        "# Transform Your data"
      ],
      "metadata": {
        "id": "I6quWQ1T9rtH"
      },
      "execution_count": null,
      "outputs": []
    },
    {
      "cell_type": "markdown",
      "source": [
        "### 6. Data Scaling"
      ],
      "metadata": {
        "id": "rMDnDkt2B6du"
      }
    },
    {
      "cell_type": "code",
      "source": [
        "# Scaling your data"
      ],
      "metadata": {
        "id": "dL9LWpySC6x_"
      },
      "execution_count": null,
      "outputs": []
    },
    {
      "cell_type": "markdown",
      "source": [
        "##### Which method have you used to scale you data and why?"
      ],
      "metadata": {
        "id": "yiiVWRdJDDil"
      }
    },
    {
      "cell_type": "markdown",
      "source": [
        "### 7. Dimesionality Reduction"
      ],
      "metadata": {
        "id": "1UUpS68QDMuG"
      }
    },
    {
      "cell_type": "markdown",
      "source": [
        "##### Do you think that dimensionality reduction is needed? Explain Why?"
      ],
      "metadata": {
        "id": "kexQrXU-DjzY"
      }
    },
    {
      "cell_type": "markdown",
      "source": [
        "Answer Here."
      ],
      "metadata": {
        "id": "GGRlBsSGDtTQ"
      }
    },
    {
      "cell_type": "code",
      "source": [
        "# DImensionality Reduction (If needed)"
      ],
      "metadata": {
        "id": "kQfvxBBHDvCa"
      },
      "execution_count": null,
      "outputs": []
    },
    {
      "cell_type": "markdown",
      "source": [
        "##### Which dimensionality reduction technique have you used and why? (If dimensionality reduction done on dataset.)"
      ],
      "metadata": {
        "id": "T5CmagL3EC8N"
      }
    },
    {
      "cell_type": "markdown",
      "source": [
        "Answer Here."
      ],
      "metadata": {
        "id": "ZKr75IDuEM7t"
      }
    },
    {
      "cell_type": "markdown",
      "source": [
        "### 8. Data Splitting"
      ],
      "metadata": {
        "id": "BhH2vgX9EjGr"
      }
    },
    {
      "cell_type": "code",
      "source": [
        "# Split your data to train and test. Choose Splitting ratio wisely."
      ],
      "metadata": {
        "id": "0CTyd2UwEyNM"
      },
      "execution_count": null,
      "outputs": []
    },
    {
      "cell_type": "markdown",
      "source": [
        "##### What data splitting ratio have you used and why?"
      ],
      "metadata": {
        "id": "qjKvONjwE8ra"
      }
    },
    {
      "cell_type": "markdown",
      "source": [
        "Answer Here."
      ],
      "metadata": {
        "id": "Y2lJ8cobFDb_"
      }
    },
    {
      "cell_type": "markdown",
      "source": [
        "### 9. Handling Imbalanced Dataset"
      ],
      "metadata": {
        "id": "P1XJ9OREExlT"
      }
    },
    {
      "cell_type": "markdown",
      "source": [
        "##### Do you think the dataset is imbalanced? Explain Why."
      ],
      "metadata": {
        "id": "VFOzZv6IFROw"
      }
    },
    {
      "cell_type": "markdown",
      "source": [
        "Answer Here."
      ],
      "metadata": {
        "id": "GeKDIv7pFgcC"
      }
    },
    {
      "cell_type": "code",
      "source": [
        "# Handling Imbalanced Dataset (If needed)"
      ],
      "metadata": {
        "id": "nQsRhhZLFiDs"
      },
      "execution_count": null,
      "outputs": []
    },
    {
      "cell_type": "markdown",
      "source": [
        "##### What technique did you use to handle the imbalance dataset and why? (If needed to be balanced)"
      ],
      "metadata": {
        "id": "TIqpNgepFxVj"
      }
    },
    {
      "cell_type": "markdown",
      "source": [
        "Answer Here."
      ],
      "metadata": {
        "id": "qbet1HwdGDTz"
      }
    },
    {
      "cell_type": "markdown",
      "source": [
        "## ***7. ML Model Implementation***"
      ],
      "metadata": {
        "id": "VfCC591jGiD4"
      }
    },
    {
      "cell_type": "markdown",
      "source": [
        "### ML Model - 1"
      ],
      "metadata": {
        "id": "OB4l2ZhMeS1U"
      }
    },
    {
      "cell_type": "code",
      "source": [
        "# ML Model - 1 Implementation\n",
        "\n",
        "# Fit the Algorithm\n",
        "\n",
        "# Predict on the model"
      ],
      "metadata": {
        "id": "7ebyywQieS1U"
      },
      "execution_count": null,
      "outputs": []
    },
    {
      "cell_type": "markdown",
      "source": [
        "#### 1. Explain the ML Model used and it's performance using Evaluation metric Score Chart."
      ],
      "metadata": {
        "id": "ArJBuiUVfxKd"
      }
    },
    {
      "cell_type": "code",
      "source": [
        "# Visualizing evaluation Metric Score chart"
      ],
      "metadata": {
        "id": "rqD5ZohzfxKe"
      },
      "execution_count": null,
      "outputs": []
    },
    {
      "cell_type": "markdown",
      "source": [
        "#### 2. Cross- Validation & Hyperparameter Tuning"
      ],
      "metadata": {
        "id": "4qY1EAkEfxKe"
      }
    },
    {
      "cell_type": "code",
      "source": [
        "# ML Model - 1 Implementation with hyperparameter optimization techniques (i.e., GridSearch CV, RandomSearch CV, Bayesian Optimization etc.)\n",
        "\n",
        "# Fit the Algorithm\n",
        "\n",
        "# Predict on the model"
      ],
      "metadata": {
        "id": "Dy61ujd6fxKe"
      },
      "execution_count": null,
      "outputs": []
    },
    {
      "cell_type": "markdown",
      "source": [
        "##### Which hyperparameter optimization technique have you used and why?"
      ],
      "metadata": {
        "id": "PiV4Ypx8fxKe"
      }
    },
    {
      "cell_type": "markdown",
      "source": [
        "Answer Here."
      ],
      "metadata": {
        "id": "negyGRa7fxKf"
      }
    },
    {
      "cell_type": "markdown",
      "source": [
        "##### Have you seen any improvement? Note down the improvement with updates Evaluation metric Score Chart."
      ],
      "metadata": {
        "id": "TfvqoZmBfxKf"
      }
    },
    {
      "cell_type": "markdown",
      "source": [
        "Answer Here."
      ],
      "metadata": {
        "id": "OaLui8CcfxKf"
      }
    },
    {
      "cell_type": "markdown",
      "source": [
        "### ML Model - 2"
      ],
      "metadata": {
        "id": "dJ2tPlVmpsJ0"
      }
    },
    {
      "cell_type": "markdown",
      "source": [
        "#### 1. Explain the ML Model used and it's performance using Evaluation metric Score Chart."
      ],
      "metadata": {
        "id": "JWYfwnehpsJ1"
      }
    },
    {
      "cell_type": "code",
      "source": [
        "# Visualizing evaluation Metric Score chart"
      ],
      "metadata": {
        "id": "yEl-hgQWpsJ1"
      },
      "execution_count": null,
      "outputs": []
    },
    {
      "cell_type": "markdown",
      "source": [
        "#### 2. Cross- Validation & Hyperparameter Tuning"
      ],
      "metadata": {
        "id": "-jK_YjpMpsJ2"
      }
    },
    {
      "cell_type": "code",
      "source": [
        "# ML Model - 1 Implementation with hyperparameter optimization techniques (i.e., GridSearch CV, RandomSearch CV, Bayesian Optimization etc.)\n",
        "\n",
        "# Fit the Algorithm\n",
        "\n",
        "# Predict on the model"
      ],
      "metadata": {
        "id": "Dn0EOfS6psJ2"
      },
      "execution_count": null,
      "outputs": []
    },
    {
      "cell_type": "markdown",
      "source": [
        "##### Which hyperparameter optimization technique have you used and why?"
      ],
      "metadata": {
        "id": "HAih1iBOpsJ2"
      }
    },
    {
      "cell_type": "markdown",
      "source": [
        "Answer Here."
      ],
      "metadata": {
        "id": "9kBgjYcdpsJ2"
      }
    },
    {
      "cell_type": "markdown",
      "source": [
        "##### Have you seen any improvement? Note down the improvement with updates Evaluation metric Score Chart."
      ],
      "metadata": {
        "id": "zVGeBEFhpsJ2"
      }
    },
    {
      "cell_type": "markdown",
      "source": [
        "Answer Here."
      ],
      "metadata": {
        "id": "74yRdG6UpsJ3"
      }
    },
    {
      "cell_type": "markdown",
      "source": [
        "#### 3. Explain each evaluation metric's indication towards business and the business impact pf the ML model used."
      ],
      "metadata": {
        "id": "bmKjuQ-FpsJ3"
      }
    },
    {
      "cell_type": "markdown",
      "source": [
        "Answer Here."
      ],
      "metadata": {
        "id": "BDKtOrBQpsJ3"
      }
    },
    {
      "cell_type": "markdown",
      "source": [
        "### ML Model - 3"
      ],
      "metadata": {
        "id": "Fze-IPXLpx6K"
      }
    },
    {
      "cell_type": "code",
      "source": [
        "# ML Model - 3 Implementation\n",
        "\n",
        "# Fit the Algorithm\n",
        "\n",
        "# Predict on the model"
      ],
      "metadata": {
        "id": "FFrSXAtrpx6M"
      },
      "execution_count": null,
      "outputs": []
    },
    {
      "cell_type": "markdown",
      "source": [
        "#### 1. Explain the ML Model used and it's performance using Evaluation metric Score Chart."
      ],
      "metadata": {
        "id": "7AN1z2sKpx6M"
      }
    },
    {
      "cell_type": "code",
      "source": [
        "# Visualizing evaluation Metric Score chart"
      ],
      "metadata": {
        "id": "xIY4lxxGpx6M"
      },
      "execution_count": null,
      "outputs": []
    },
    {
      "cell_type": "markdown",
      "source": [
        "#### 2. Cross- Validation & Hyperparameter Tuning"
      ],
      "metadata": {
        "id": "9PIHJqyupx6M"
      }
    },
    {
      "cell_type": "code",
      "source": [
        "# ML Model - 3 Implementation with hyperparameter optimization techniques (i.e., GridSearch CV, RandomSearch CV, Bayesian Optimization etc.)\n",
        "\n",
        "# Fit the Algorithm\n",
        "\n",
        "# Predict on the model"
      ],
      "metadata": {
        "id": "eSVXuaSKpx6M"
      },
      "execution_count": null,
      "outputs": []
    },
    {
      "cell_type": "markdown",
      "source": [
        "##### Which hyperparameter optimization technique have you used and why?"
      ],
      "metadata": {
        "id": "_-qAgymDpx6N"
      }
    },
    {
      "cell_type": "markdown",
      "source": [
        "Answer Here."
      ],
      "metadata": {
        "id": "lQMffxkwpx6N"
      }
    },
    {
      "cell_type": "markdown",
      "source": [
        "##### Have you seen any improvement? Note down the improvement with updates Evaluation metric Score Chart."
      ],
      "metadata": {
        "id": "Z-hykwinpx6N"
      }
    },
    {
      "cell_type": "markdown",
      "source": [
        "Answer Here."
      ],
      "metadata": {
        "id": "MzVzZC6opx6N"
      }
    },
    {
      "cell_type": "markdown",
      "source": [
        "### 1. Which Evaluation metrics did you consider for a positive business impact and why?"
      ],
      "metadata": {
        "id": "h_CCil-SKHpo"
      }
    },
    {
      "cell_type": "markdown",
      "source": [
        "Answer Here."
      ],
      "metadata": {
        "id": "jHVz9hHDKFms"
      }
    },
    {
      "cell_type": "markdown",
      "source": [
        "### 2. Which ML model did you choose from the above created models as your final prediction model and why?"
      ],
      "metadata": {
        "id": "cBFFvTBNJzUa"
      }
    },
    {
      "cell_type": "markdown",
      "source": [
        "Answer Here."
      ],
      "metadata": {
        "id": "6ksF5Q1LKTVm"
      }
    },
    {
      "cell_type": "markdown",
      "source": [
        "### 3. Explain the model which you have used and the feature importance using any model explainability tool?"
      ],
      "metadata": {
        "id": "HvGl1hHyA_VK"
      }
    },
    {
      "cell_type": "markdown",
      "source": [
        "Answer Here."
      ],
      "metadata": {
        "id": "YnvVTiIxBL-C"
      }
    },
    {
      "cell_type": "markdown",
      "source": [
        "## ***8.*** ***Future Work (Optional)***"
      ],
      "metadata": {
        "id": "EyNgTHvd2WFk"
      }
    },
    {
      "cell_type": "markdown",
      "source": [
        "### 1. Save the best performing ml model in a pickle file or joblib file format for deployment process.\n"
      ],
      "metadata": {
        "id": "KH5McJBi2d8v"
      }
    },
    {
      "cell_type": "code",
      "source": [
        "# Save the File"
      ],
      "metadata": {
        "id": "bQIANRl32f4J"
      },
      "execution_count": null,
      "outputs": []
    },
    {
      "cell_type": "markdown",
      "source": [
        "### 2. Again Load the saved model file and try to predict unseen data for a sanity check.\n"
      ],
      "metadata": {
        "id": "iW_Lq9qf2h6X"
      }
    },
    {
      "cell_type": "code",
      "source": [
        "# Load the File and predict unseen data."
      ],
      "metadata": {
        "id": "oEXk9ydD2nVC"
      },
      "execution_count": null,
      "outputs": []
    },
    {
      "cell_type": "markdown",
      "source": [
        "### ***Congrats! Your model is successfully created and ready for deployment on a live server for a real user interaction !!!***"
      ],
      "metadata": {
        "id": "-Kee-DAl2viO"
      }
    },
    {
      "cell_type": "markdown",
      "source": [
        "# **Conclusion**"
      ],
      "metadata": {
        "id": "gCX9965dhzqZ"
      }
    },
    {
      "cell_type": "markdown",
      "source": [
        "Write the conclusion here."
      ],
      "metadata": {
        "id": "Fjb1IsQkh3yE"
      }
    },
    {
      "cell_type": "markdown",
      "source": [
        "### ***Hurrah! You have successfully completed your Machine Learning Capstone Project !!!***"
      ],
      "metadata": {
        "id": "gIfDvo9L0UH2"
      }
    }
  ]
}